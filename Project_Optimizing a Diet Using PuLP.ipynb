{
 "cells": [
  {
   "cell_type": "markdown",
   "metadata": {},
   "source": [
    "# Project: Optimizing a Diet Using PuLP\n",
    "\n",
    "## Name: Seil Kwon\n",
    "\n",
    "## Part 1.\n",
    "### In order to solve a linear problem, we install a high level modelling library, PuLP and import pandas."
   ]
  },
  {
   "cell_type": "code",
   "execution_count": 1,
   "metadata": {},
   "outputs": [
    {
     "name": "stdout",
     "output_type": "stream",
     "text": [
      "Collecting pulp\n",
      "  Using cached PuLP-2.3.1-py3-none-any.whl (40.6 MB)\n",
      "Collecting amply>=0.1.2\n",
      "  Using cached amply-0.1.4-py3-none-any.whl (16 kB)\n",
      "Requirement already satisfied: docutils>=0.3 in c:\\temp\\autempr\\envs\\py37\\lib\\site-packages (from amply>=0.1.2->pulp) (0.16)\n",
      "Requirement already satisfied: pyparsing in c:\\temp\\autempr\\envs\\py37\\lib\\site-packages (from amply>=0.1.2->pulp) (2.4.7)\n",
      "Installing collected packages: amply, pulp\n",
      "Successfully installed amply-0.1.4 pulp-2.3.1\n"
     ]
    }
   ],
   "source": [
    "!pip install pulp\n",
    "from pulp import *\n",
    "import pandas as pd"
   ]
  },
  {
   "cell_type": "markdown",
   "metadata": {},
   "source": [
    "### Read excel data by using pd function. All the food data is stored in rows 1 to 64."
   ]
  },
  {
   "cell_type": "code",
   "execution_count": 2,
   "metadata": {
    "scrolled": true
   },
   "outputs": [],
   "source": [
    "df = pd.read_excel('diet.xls')\n",
    "df = df[0:64]"
   ]
  },
  {
   "cell_type": "markdown",
   "metadata": {},
   "source": [
    "### Next, we drop null rows and convert the data frame into a list."
   ]
  },
  {
   "cell_type": "code",
   "execution_count": 3,
   "metadata": {
    "scrolled": true
   },
   "outputs": [
    {
     "data": {
      "text/html": [
       "<div>\n",
       "<style scoped>\n",
       "    .dataframe tbody tr th:only-of-type {\n",
       "        vertical-align: middle;\n",
       "    }\n",
       "\n",
       "    .dataframe tbody tr th {\n",
       "        vertical-align: top;\n",
       "    }\n",
       "\n",
       "    .dataframe thead th {\n",
       "        text-align: right;\n",
       "    }\n",
       "</style>\n",
       "<table border=\"1\" class=\"dataframe\">\n",
       "  <thead>\n",
       "    <tr style=\"text-align: right;\">\n",
       "      <th></th>\n",
       "      <th>Foods</th>\n",
       "      <th>Price/ Serving</th>\n",
       "      <th>Serving Size</th>\n",
       "      <th>Calories</th>\n",
       "      <th>Cholesterol mg</th>\n",
       "      <th>Total_Fat g</th>\n",
       "      <th>Sodium mg</th>\n",
       "      <th>Carbohydrates g</th>\n",
       "      <th>Dietary_Fiber g</th>\n",
       "      <th>Protein g</th>\n",
       "      <th>Vit_A IU</th>\n",
       "      <th>Vit_C IU</th>\n",
       "      <th>Calcium mg</th>\n",
       "      <th>Iron mg</th>\n",
       "    </tr>\n",
       "  </thead>\n",
       "  <tbody>\n",
       "    <tr>\n",
       "      <th>0</th>\n",
       "      <td>Frozen Broccoli</td>\n",
       "      <td>0.16</td>\n",
       "      <td>10 Oz Pkg</td>\n",
       "      <td>73.8</td>\n",
       "      <td>0.0</td>\n",
       "      <td>0.8</td>\n",
       "      <td>68.2</td>\n",
       "      <td>13.6</td>\n",
       "      <td>8.5</td>\n",
       "      <td>8.0</td>\n",
       "      <td>5867.4</td>\n",
       "      <td>160.2</td>\n",
       "      <td>159.0</td>\n",
       "      <td>2.3</td>\n",
       "    </tr>\n",
       "    <tr>\n",
       "      <th>1</th>\n",
       "      <td>Carrots,Raw</td>\n",
       "      <td>0.07</td>\n",
       "      <td>1/2 Cup Shredded</td>\n",
       "      <td>23.7</td>\n",
       "      <td>0.0</td>\n",
       "      <td>0.1</td>\n",
       "      <td>19.2</td>\n",
       "      <td>5.6</td>\n",
       "      <td>1.6</td>\n",
       "      <td>0.6</td>\n",
       "      <td>15471.0</td>\n",
       "      <td>5.1</td>\n",
       "      <td>14.9</td>\n",
       "      <td>0.3</td>\n",
       "    </tr>\n",
       "    <tr>\n",
       "      <th>2</th>\n",
       "      <td>Celery, Raw</td>\n",
       "      <td>0.04</td>\n",
       "      <td>1 Stalk</td>\n",
       "      <td>6.4</td>\n",
       "      <td>0.0</td>\n",
       "      <td>0.1</td>\n",
       "      <td>34.8</td>\n",
       "      <td>1.5</td>\n",
       "      <td>0.7</td>\n",
       "      <td>0.3</td>\n",
       "      <td>53.6</td>\n",
       "      <td>2.8</td>\n",
       "      <td>16.0</td>\n",
       "      <td>0.2</td>\n",
       "    </tr>\n",
       "    <tr>\n",
       "      <th>3</th>\n",
       "      <td>Frozen Corn</td>\n",
       "      <td>0.18</td>\n",
       "      <td>1/2 Cup</td>\n",
       "      <td>72.2</td>\n",
       "      <td>0.0</td>\n",
       "      <td>0.6</td>\n",
       "      <td>2.5</td>\n",
       "      <td>17.1</td>\n",
       "      <td>2.0</td>\n",
       "      <td>2.5</td>\n",
       "      <td>106.6</td>\n",
       "      <td>5.2</td>\n",
       "      <td>3.3</td>\n",
       "      <td>0.3</td>\n",
       "    </tr>\n",
       "    <tr>\n",
       "      <th>4</th>\n",
       "      <td>Lettuce,Iceberg,Raw</td>\n",
       "      <td>0.02</td>\n",
       "      <td>1 Leaf</td>\n",
       "      <td>2.6</td>\n",
       "      <td>0.0</td>\n",
       "      <td>0.0</td>\n",
       "      <td>1.8</td>\n",
       "      <td>0.4</td>\n",
       "      <td>0.3</td>\n",
       "      <td>0.2</td>\n",
       "      <td>66.0</td>\n",
       "      <td>0.8</td>\n",
       "      <td>3.8</td>\n",
       "      <td>0.1</td>\n",
       "    </tr>\n",
       "    <tr>\n",
       "      <th>...</th>\n",
       "      <td>...</td>\n",
       "      <td>...</td>\n",
       "      <td>...</td>\n",
       "      <td>...</td>\n",
       "      <td>...</td>\n",
       "      <td>...</td>\n",
       "      <td>...</td>\n",
       "      <td>...</td>\n",
       "      <td>...</td>\n",
       "      <td>...</td>\n",
       "      <td>...</td>\n",
       "      <td>...</td>\n",
       "      <td>...</td>\n",
       "      <td>...</td>\n",
       "    </tr>\n",
       "    <tr>\n",
       "      <th>59</th>\n",
       "      <td>Neweng Clamchwd</td>\n",
       "      <td>0.75</td>\n",
       "      <td>1 C (8 Fl Oz)</td>\n",
       "      <td>175.7</td>\n",
       "      <td>10.0</td>\n",
       "      <td>5.0</td>\n",
       "      <td>1864.9</td>\n",
       "      <td>21.8</td>\n",
       "      <td>1.5</td>\n",
       "      <td>10.9</td>\n",
       "      <td>20.1</td>\n",
       "      <td>4.8</td>\n",
       "      <td>82.8</td>\n",
       "      <td>2.8</td>\n",
       "    </tr>\n",
       "    <tr>\n",
       "      <th>60</th>\n",
       "      <td>Tomato Soup</td>\n",
       "      <td>0.39</td>\n",
       "      <td>1 C (8 Fl Oz)</td>\n",
       "      <td>170.7</td>\n",
       "      <td>0.0</td>\n",
       "      <td>3.8</td>\n",
       "      <td>1744.4</td>\n",
       "      <td>33.2</td>\n",
       "      <td>1.0</td>\n",
       "      <td>4.1</td>\n",
       "      <td>1393.0</td>\n",
       "      <td>133.0</td>\n",
       "      <td>27.6</td>\n",
       "      <td>3.5</td>\n",
       "    </tr>\n",
       "    <tr>\n",
       "      <th>61</th>\n",
       "      <td>New E Clamchwd,W/Mlk</td>\n",
       "      <td>0.99</td>\n",
       "      <td>1 C (8 Fl Oz)</td>\n",
       "      <td>163.7</td>\n",
       "      <td>22.3</td>\n",
       "      <td>6.6</td>\n",
       "      <td>992.0</td>\n",
       "      <td>16.6</td>\n",
       "      <td>1.5</td>\n",
       "      <td>9.5</td>\n",
       "      <td>163.7</td>\n",
       "      <td>3.5</td>\n",
       "      <td>186.0</td>\n",
       "      <td>1.5</td>\n",
       "    </tr>\n",
       "    <tr>\n",
       "      <th>62</th>\n",
       "      <td>Crm Mshrm Soup,W/Mlk</td>\n",
       "      <td>0.65</td>\n",
       "      <td>1 C (8 Fl Oz)</td>\n",
       "      <td>203.4</td>\n",
       "      <td>19.8</td>\n",
       "      <td>13.6</td>\n",
       "      <td>1076.3</td>\n",
       "      <td>15.0</td>\n",
       "      <td>0.5</td>\n",
       "      <td>6.1</td>\n",
       "      <td>153.8</td>\n",
       "      <td>2.2</td>\n",
       "      <td>178.6</td>\n",
       "      <td>0.6</td>\n",
       "    </tr>\n",
       "    <tr>\n",
       "      <th>63</th>\n",
       "      <td>Beanbacn Soup,W/Watr</td>\n",
       "      <td>0.67</td>\n",
       "      <td>1 C (8 Fl Oz)</td>\n",
       "      <td>172.0</td>\n",
       "      <td>2.5</td>\n",
       "      <td>5.9</td>\n",
       "      <td>951.3</td>\n",
       "      <td>22.8</td>\n",
       "      <td>8.6</td>\n",
       "      <td>7.9</td>\n",
       "      <td>888.0</td>\n",
       "      <td>1.5</td>\n",
       "      <td>81.0</td>\n",
       "      <td>2.0</td>\n",
       "    </tr>\n",
       "  </tbody>\n",
       "</table>\n",
       "<p>64 rows × 14 columns</p>\n",
       "</div>"
      ],
      "text/plain": [
       "                   Foods  Price/ Serving      Serving Size  Calories  \\\n",
       "0        Frozen Broccoli            0.16         10 Oz Pkg      73.8   \n",
       "1            Carrots,Raw            0.07  1/2 Cup Shredded      23.7   \n",
       "2            Celery, Raw            0.04           1 Stalk       6.4   \n",
       "3            Frozen Corn            0.18           1/2 Cup      72.2   \n",
       "4    Lettuce,Iceberg,Raw            0.02            1 Leaf       2.6   \n",
       "..                   ...             ...               ...       ...   \n",
       "59       Neweng Clamchwd            0.75     1 C (8 Fl Oz)     175.7   \n",
       "60           Tomato Soup            0.39     1 C (8 Fl Oz)     170.7   \n",
       "61  New E Clamchwd,W/Mlk            0.99     1 C (8 Fl Oz)     163.7   \n",
       "62  Crm Mshrm Soup,W/Mlk            0.65     1 C (8 Fl Oz)     203.4   \n",
       "63  Beanbacn Soup,W/Watr            0.67     1 C (8 Fl Oz)     172.0   \n",
       "\n",
       "    Cholesterol mg  Total_Fat g  Sodium mg  Carbohydrates g  Dietary_Fiber g  \\\n",
       "0              0.0          0.8       68.2             13.6              8.5   \n",
       "1              0.0          0.1       19.2              5.6              1.6   \n",
       "2              0.0          0.1       34.8              1.5              0.7   \n",
       "3              0.0          0.6        2.5             17.1              2.0   \n",
       "4              0.0          0.0        1.8              0.4              0.3   \n",
       "..             ...          ...        ...              ...              ...   \n",
       "59            10.0          5.0     1864.9             21.8              1.5   \n",
       "60             0.0          3.8     1744.4             33.2              1.0   \n",
       "61            22.3          6.6      992.0             16.6              1.5   \n",
       "62            19.8         13.6     1076.3             15.0              0.5   \n",
       "63             2.5          5.9      951.3             22.8              8.6   \n",
       "\n",
       "    Protein g  Vit_A IU  Vit_C IU  Calcium mg  Iron mg  \n",
       "0         8.0    5867.4     160.2       159.0      2.3  \n",
       "1         0.6   15471.0       5.1        14.9      0.3  \n",
       "2         0.3      53.6       2.8        16.0      0.2  \n",
       "3         2.5     106.6       5.2         3.3      0.3  \n",
       "4         0.2      66.0       0.8         3.8      0.1  \n",
       "..        ...       ...       ...         ...      ...  \n",
       "59       10.9      20.1       4.8        82.8      2.8  \n",
       "60        4.1    1393.0     133.0        27.6      3.5  \n",
       "61        9.5     163.7       3.5       186.0      1.5  \n",
       "62        6.1     153.8       2.2       178.6      0.6  \n",
       "63        7.9     888.0       1.5        81.0      2.0  \n",
       "\n",
       "[64 rows x 14 columns]"
      ]
     },
     "metadata": {},
     "output_type": "display_data"
    }
   ],
   "source": [
    "df.dropna(inplace=True)\n",
    "foods = df['Foods'].tolist()\n",
    "display (df)"
   ]
  },
  {
   "cell_type": "markdown",
   "metadata": {},
   "source": [
    "### Convert the 'Foods' column into index to use them as our keys for our dictionaries."
   ]
  },
  {
   "cell_type": "code",
   "execution_count": 4,
   "metadata": {},
   "outputs": [
    {
     "data": {
      "text/html": [
       "<div>\n",
       "<style scoped>\n",
       "    .dataframe tbody tr th:only-of-type {\n",
       "        vertical-align: middle;\n",
       "    }\n",
       "\n",
       "    .dataframe tbody tr th {\n",
       "        vertical-align: top;\n",
       "    }\n",
       "\n",
       "    .dataframe thead th {\n",
       "        text-align: right;\n",
       "    }\n",
       "</style>\n",
       "<table border=\"1\" class=\"dataframe\">\n",
       "  <thead>\n",
       "    <tr style=\"text-align: right;\">\n",
       "      <th></th>\n",
       "      <th>Price/ Serving</th>\n",
       "      <th>Serving Size</th>\n",
       "      <th>Calories</th>\n",
       "      <th>Cholesterol mg</th>\n",
       "      <th>Total_Fat g</th>\n",
       "      <th>Sodium mg</th>\n",
       "      <th>Carbohydrates g</th>\n",
       "      <th>Dietary_Fiber g</th>\n",
       "      <th>Protein g</th>\n",
       "      <th>Vit_A IU</th>\n",
       "      <th>Vit_C IU</th>\n",
       "      <th>Calcium mg</th>\n",
       "      <th>Iron mg</th>\n",
       "    </tr>\n",
       "    <tr>\n",
       "      <th>Foods</th>\n",
       "      <th></th>\n",
       "      <th></th>\n",
       "      <th></th>\n",
       "      <th></th>\n",
       "      <th></th>\n",
       "      <th></th>\n",
       "      <th></th>\n",
       "      <th></th>\n",
       "      <th></th>\n",
       "      <th></th>\n",
       "      <th></th>\n",
       "      <th></th>\n",
       "      <th></th>\n",
       "    </tr>\n",
       "  </thead>\n",
       "  <tbody>\n",
       "    <tr>\n",
       "      <th>Frozen Broccoli</th>\n",
       "      <td>0.16</td>\n",
       "      <td>10 Oz Pkg</td>\n",
       "      <td>73.8</td>\n",
       "      <td>0.0</td>\n",
       "      <td>0.8</td>\n",
       "      <td>68.2</td>\n",
       "      <td>13.6</td>\n",
       "      <td>8.5</td>\n",
       "      <td>8.0</td>\n",
       "      <td>5867.4</td>\n",
       "      <td>160.2</td>\n",
       "      <td>159.0</td>\n",
       "      <td>2.3</td>\n",
       "    </tr>\n",
       "    <tr>\n",
       "      <th>Carrots,Raw</th>\n",
       "      <td>0.07</td>\n",
       "      <td>1/2 Cup Shredded</td>\n",
       "      <td>23.7</td>\n",
       "      <td>0.0</td>\n",
       "      <td>0.1</td>\n",
       "      <td>19.2</td>\n",
       "      <td>5.6</td>\n",
       "      <td>1.6</td>\n",
       "      <td>0.6</td>\n",
       "      <td>15471.0</td>\n",
       "      <td>5.1</td>\n",
       "      <td>14.9</td>\n",
       "      <td>0.3</td>\n",
       "    </tr>\n",
       "    <tr>\n",
       "      <th>Celery, Raw</th>\n",
       "      <td>0.04</td>\n",
       "      <td>1 Stalk</td>\n",
       "      <td>6.4</td>\n",
       "      <td>0.0</td>\n",
       "      <td>0.1</td>\n",
       "      <td>34.8</td>\n",
       "      <td>1.5</td>\n",
       "      <td>0.7</td>\n",
       "      <td>0.3</td>\n",
       "      <td>53.6</td>\n",
       "      <td>2.8</td>\n",
       "      <td>16.0</td>\n",
       "      <td>0.2</td>\n",
       "    </tr>\n",
       "    <tr>\n",
       "      <th>Frozen Corn</th>\n",
       "      <td>0.18</td>\n",
       "      <td>1/2 Cup</td>\n",
       "      <td>72.2</td>\n",
       "      <td>0.0</td>\n",
       "      <td>0.6</td>\n",
       "      <td>2.5</td>\n",
       "      <td>17.1</td>\n",
       "      <td>2.0</td>\n",
       "      <td>2.5</td>\n",
       "      <td>106.6</td>\n",
       "      <td>5.2</td>\n",
       "      <td>3.3</td>\n",
       "      <td>0.3</td>\n",
       "    </tr>\n",
       "    <tr>\n",
       "      <th>Lettuce,Iceberg,Raw</th>\n",
       "      <td>0.02</td>\n",
       "      <td>1 Leaf</td>\n",
       "      <td>2.6</td>\n",
       "      <td>0.0</td>\n",
       "      <td>0.0</td>\n",
       "      <td>1.8</td>\n",
       "      <td>0.4</td>\n",
       "      <td>0.3</td>\n",
       "      <td>0.2</td>\n",
       "      <td>66.0</td>\n",
       "      <td>0.8</td>\n",
       "      <td>3.8</td>\n",
       "      <td>0.1</td>\n",
       "    </tr>\n",
       "    <tr>\n",
       "      <th>...</th>\n",
       "      <td>...</td>\n",
       "      <td>...</td>\n",
       "      <td>...</td>\n",
       "      <td>...</td>\n",
       "      <td>...</td>\n",
       "      <td>...</td>\n",
       "      <td>...</td>\n",
       "      <td>...</td>\n",
       "      <td>...</td>\n",
       "      <td>...</td>\n",
       "      <td>...</td>\n",
       "      <td>...</td>\n",
       "      <td>...</td>\n",
       "    </tr>\n",
       "    <tr>\n",
       "      <th>Neweng Clamchwd</th>\n",
       "      <td>0.75</td>\n",
       "      <td>1 C (8 Fl Oz)</td>\n",
       "      <td>175.7</td>\n",
       "      <td>10.0</td>\n",
       "      <td>5.0</td>\n",
       "      <td>1864.9</td>\n",
       "      <td>21.8</td>\n",
       "      <td>1.5</td>\n",
       "      <td>10.9</td>\n",
       "      <td>20.1</td>\n",
       "      <td>4.8</td>\n",
       "      <td>82.8</td>\n",
       "      <td>2.8</td>\n",
       "    </tr>\n",
       "    <tr>\n",
       "      <th>Tomato Soup</th>\n",
       "      <td>0.39</td>\n",
       "      <td>1 C (8 Fl Oz)</td>\n",
       "      <td>170.7</td>\n",
       "      <td>0.0</td>\n",
       "      <td>3.8</td>\n",
       "      <td>1744.4</td>\n",
       "      <td>33.2</td>\n",
       "      <td>1.0</td>\n",
       "      <td>4.1</td>\n",
       "      <td>1393.0</td>\n",
       "      <td>133.0</td>\n",
       "      <td>27.6</td>\n",
       "      <td>3.5</td>\n",
       "    </tr>\n",
       "    <tr>\n",
       "      <th>New E Clamchwd,W/Mlk</th>\n",
       "      <td>0.99</td>\n",
       "      <td>1 C (8 Fl Oz)</td>\n",
       "      <td>163.7</td>\n",
       "      <td>22.3</td>\n",
       "      <td>6.6</td>\n",
       "      <td>992.0</td>\n",
       "      <td>16.6</td>\n",
       "      <td>1.5</td>\n",
       "      <td>9.5</td>\n",
       "      <td>163.7</td>\n",
       "      <td>3.5</td>\n",
       "      <td>186.0</td>\n",
       "      <td>1.5</td>\n",
       "    </tr>\n",
       "    <tr>\n",
       "      <th>Crm Mshrm Soup,W/Mlk</th>\n",
       "      <td>0.65</td>\n",
       "      <td>1 C (8 Fl Oz)</td>\n",
       "      <td>203.4</td>\n",
       "      <td>19.8</td>\n",
       "      <td>13.6</td>\n",
       "      <td>1076.3</td>\n",
       "      <td>15.0</td>\n",
       "      <td>0.5</td>\n",
       "      <td>6.1</td>\n",
       "      <td>153.8</td>\n",
       "      <td>2.2</td>\n",
       "      <td>178.6</td>\n",
       "      <td>0.6</td>\n",
       "    </tr>\n",
       "    <tr>\n",
       "      <th>Beanbacn Soup,W/Watr</th>\n",
       "      <td>0.67</td>\n",
       "      <td>1 C (8 Fl Oz)</td>\n",
       "      <td>172.0</td>\n",
       "      <td>2.5</td>\n",
       "      <td>5.9</td>\n",
       "      <td>951.3</td>\n",
       "      <td>22.8</td>\n",
       "      <td>8.6</td>\n",
       "      <td>7.9</td>\n",
       "      <td>888.0</td>\n",
       "      <td>1.5</td>\n",
       "      <td>81.0</td>\n",
       "      <td>2.0</td>\n",
       "    </tr>\n",
       "  </tbody>\n",
       "</table>\n",
       "<p>64 rows × 13 columns</p>\n",
       "</div>"
      ],
      "text/plain": [
       "                      Price/ Serving      Serving Size  Calories  \\\n",
       "Foods                                                              \n",
       "Frozen Broccoli                 0.16         10 Oz Pkg      73.8   \n",
       "Carrots,Raw                     0.07  1/2 Cup Shredded      23.7   \n",
       "Celery, Raw                     0.04           1 Stalk       6.4   \n",
       "Frozen Corn                     0.18           1/2 Cup      72.2   \n",
       "Lettuce,Iceberg,Raw             0.02            1 Leaf       2.6   \n",
       "...                              ...               ...       ...   \n",
       "Neweng Clamchwd                 0.75     1 C (8 Fl Oz)     175.7   \n",
       "Tomato Soup                     0.39     1 C (8 Fl Oz)     170.7   \n",
       "New E Clamchwd,W/Mlk            0.99     1 C (8 Fl Oz)     163.7   \n",
       "Crm Mshrm Soup,W/Mlk            0.65     1 C (8 Fl Oz)     203.4   \n",
       "Beanbacn Soup,W/Watr            0.67     1 C (8 Fl Oz)     172.0   \n",
       "\n",
       "                      Cholesterol mg  Total_Fat g  Sodium mg  Carbohydrates g  \\\n",
       "Foods                                                                           \n",
       "Frozen Broccoli                  0.0          0.8       68.2             13.6   \n",
       "Carrots,Raw                      0.0          0.1       19.2              5.6   \n",
       "Celery, Raw                      0.0          0.1       34.8              1.5   \n",
       "Frozen Corn                      0.0          0.6        2.5             17.1   \n",
       "Lettuce,Iceberg,Raw              0.0          0.0        1.8              0.4   \n",
       "...                              ...          ...        ...              ...   \n",
       "Neweng Clamchwd                 10.0          5.0     1864.9             21.8   \n",
       "Tomato Soup                      0.0          3.8     1744.4             33.2   \n",
       "New E Clamchwd,W/Mlk            22.3          6.6      992.0             16.6   \n",
       "Crm Mshrm Soup,W/Mlk            19.8         13.6     1076.3             15.0   \n",
       "Beanbacn Soup,W/Watr             2.5          5.9      951.3             22.8   \n",
       "\n",
       "                      Dietary_Fiber g  Protein g  Vit_A IU  Vit_C IU  \\\n",
       "Foods                                                                  \n",
       "Frozen Broccoli                   8.5        8.0    5867.4     160.2   \n",
       "Carrots,Raw                       1.6        0.6   15471.0       5.1   \n",
       "Celery, Raw                       0.7        0.3      53.6       2.8   \n",
       "Frozen Corn                       2.0        2.5     106.6       5.2   \n",
       "Lettuce,Iceberg,Raw               0.3        0.2      66.0       0.8   \n",
       "...                               ...        ...       ...       ...   \n",
       "Neweng Clamchwd                   1.5       10.9      20.1       4.8   \n",
       "Tomato Soup                       1.0        4.1    1393.0     133.0   \n",
       "New E Clamchwd,W/Mlk              1.5        9.5     163.7       3.5   \n",
       "Crm Mshrm Soup,W/Mlk              0.5        6.1     153.8       2.2   \n",
       "Beanbacn Soup,W/Watr              8.6        7.9     888.0       1.5   \n",
       "\n",
       "                      Calcium mg  Iron mg  \n",
       "Foods                                      \n",
       "Frozen Broccoli            159.0      2.3  \n",
       "Carrots,Raw                 14.9      0.3  \n",
       "Celery, Raw                 16.0      0.2  \n",
       "Frozen Corn                  3.3      0.3  \n",
       "Lettuce,Iceberg,Raw          3.8      0.1  \n",
       "...                          ...      ...  \n",
       "Neweng Clamchwd             82.8      2.8  \n",
       "Tomato Soup                 27.6      3.5  \n",
       "New E Clamchwd,W/Mlk       186.0      1.5  \n",
       "Crm Mshrm Soup,W/Mlk       178.6      0.6  \n",
       "Beanbacn Soup,W/Watr        81.0      2.0  \n",
       "\n",
       "[64 rows x 13 columns]"
      ]
     },
     "metadata": {},
     "output_type": "display_data"
    }
   ],
   "source": [
    "df_foods = df.set_index('Foods')\n",
    "display(df_foods)"
   ]
  },
  {
   "cell_type": "markdown",
   "metadata": {},
   "source": [
    "### Then, we create dictionaries for each nutrition factors."
   ]
  },
  {
   "cell_type": "code",
   "execution_count": 5,
   "metadata": {},
   "outputs": [],
   "source": [
    "cost = df_foods['Price/ Serving'].to_dict()\n",
    "serv_size = df_foods['Serving Size'].to_dict()\n",
    "cals = df_foods['Calories'].to_dict()\n",
    "chol = df_foods['Cholesterol mg'].to_dict()\n",
    "fat = df_foods['Total_Fat g'].to_dict()\n",
    "sodium = df_foods['Sodium mg'].to_dict()\n",
    "carbs = df_foods['Carbohydrates g'].to_dict()\n",
    "fiber = df_foods['Dietary_Fiber g'].to_dict()\n",
    "protein = df_foods['Protein g'].to_dict()\n",
    "vit_a = df_foods['Vit_A IU'].to_dict()\n",
    "vit_c = df_foods['Vit_C IU'].to_dict()\n",
    "calcium = df_foods['Calcium mg'].to_dict()\n",
    "iron = df_foods['Iron mg'].to_dict()"
   ]
  },
  {
   "cell_type": "markdown",
   "metadata": {},
   "source": [
    "### Next, we define the optimization problem for minimizing the amount. We use the sense parameter to choose whether to perform minimization or maximization. Since we're trying to minimize our cost, we will use LpMinimize as our parameter. Once we have the model, we can define the decision variables as instances of the LpVariable class. We initialize the decision variables by providing a lower bound with lowBound = 0 because the default value is negative infinity."
   ]
  },
  {
   "cell_type": "code",
   "execution_count": 6,
   "metadata": {
    "scrolled": false
   },
   "outputs": [
    {
     "data": {
      "text/plain": [
       "{'Frozen Broccoli': food_Frozen_Broccoli,\n",
       " 'Carrots,Raw': food_Carrots,Raw,\n",
       " 'Celery, Raw': food_Celery,_Raw,\n",
       " 'Frozen Corn': food_Frozen_Corn,\n",
       " 'Lettuce,Iceberg,Raw': food_Lettuce,Iceberg,Raw,\n",
       " 'Peppers, Sweet, Raw': food_Peppers,_Sweet,_Raw,\n",
       " 'Potatoes, Baked': food_Potatoes,_Baked,\n",
       " 'Tofu': food_Tofu,\n",
       " 'Roasted Chicken': food_Roasted_Chicken,\n",
       " 'Spaghetti W/ Sauce': food_Spaghetti_W__Sauce,\n",
       " 'Tomato,Red,Ripe,Raw': food_Tomato,Red,Ripe,Raw,\n",
       " 'Apple,Raw,W/Skin': food_Apple,Raw,W_Skin,\n",
       " 'Banana': food_Banana,\n",
       " 'Grapes': food_Grapes,\n",
       " 'Kiwifruit,Raw,Fresh': food_Kiwifruit,Raw,Fresh,\n",
       " 'Oranges': food_Oranges,\n",
       " 'Bagels': food_Bagels,\n",
       " 'Wheat Bread': food_Wheat_Bread,\n",
       " 'White Bread': food_White_Bread,\n",
       " 'Oatmeal Cookies': food_Oatmeal_Cookies,\n",
       " 'Apple Pie': food_Apple_Pie,\n",
       " 'Chocolate Chip Cookies': food_Chocolate_Chip_Cookies,\n",
       " 'Butter,Regular': food_Butter,Regular,\n",
       " 'Cheddar Cheese': food_Cheddar_Cheese,\n",
       " '3.3% Fat,Whole Milk': food_3.3%_Fat,Whole_Milk,\n",
       " '2% Lowfat Milk': food_2%_Lowfat_Milk,\n",
       " 'Skim Milk': food_Skim_Milk,\n",
       " 'Poached Eggs': food_Poached_Eggs,\n",
       " 'Scrambled Eggs': food_Scrambled_Eggs,\n",
       " 'Bologna,Turkey': food_Bologna,Turkey,\n",
       " 'Frankfurter, Beef': food_Frankfurter,_Beef,\n",
       " 'Ham,Sliced,Extralean': food_Ham,Sliced,Extralean,\n",
       " 'Kielbasa,Prk': food_Kielbasa,Prk,\n",
       " \"Cap'N Crunch\": food_Cap'N_Crunch,\n",
       " 'Cheerios': food_Cheerios,\n",
       " \"Corn Flks, Kellogg'S\": food_Corn_Flks,_Kellogg'S,\n",
       " \"Raisin Brn, Kellg'S\": food_Raisin_Brn,_Kellg'S,\n",
       " 'Rice Krispies': food_Rice_Krispies,\n",
       " 'Special K': food_Special_K,\n",
       " 'Oatmeal': food_Oatmeal,\n",
       " 'Malt-O-Meal,Choc': food_Malt_O_Meal,Choc,\n",
       " 'Pizza W/Pepperoni': food_Pizza_W_Pepperoni,\n",
       " 'Taco': food_Taco,\n",
       " 'Hamburger W/Toppings': food_Hamburger_W_Toppings,\n",
       " 'Hotdog, Plain': food_Hotdog,_Plain,\n",
       " 'Couscous': food_Couscous,\n",
       " 'White Rice': food_White_Rice,\n",
       " 'Macaroni,Ckd': food_Macaroni,Ckd,\n",
       " 'Peanut Butter': food_Peanut_Butter,\n",
       " 'Pork': food_Pork,\n",
       " 'Sardines in Oil': food_Sardines_in_Oil,\n",
       " 'White Tuna in Water': food_White_Tuna_in_Water,\n",
       " 'Popcorn,Air-Popped': food_Popcorn,Air_Popped,\n",
       " 'Potato Chips,Bbqflvr': food_Potato_Chips,Bbqflvr,\n",
       " 'Pretzels': food_Pretzels,\n",
       " 'Tortilla Chip': food_Tortilla_Chip,\n",
       " 'Chicknoodl Soup': food_Chicknoodl_Soup,\n",
       " 'Splt Pea&Hamsoup': food_Splt_Pea&Hamsoup,\n",
       " 'Vegetbeef Soup': food_Vegetbeef_Soup,\n",
       " 'Neweng Clamchwd': food_Neweng_Clamchwd,\n",
       " 'Tomato Soup': food_Tomato_Soup,\n",
       " 'New E Clamchwd,W/Mlk': food_New_E_Clamchwd,W_Mlk,\n",
       " 'Crm Mshrm Soup,W/Mlk': food_Crm_Mshrm_Soup,W_Mlk,\n",
       " 'Beanbacn Soup,W/Watr': food_Beanbacn_Soup,W_Watr}"
      ]
     },
     "execution_count": 6,
     "metadata": {},
     "output_type": "execute_result"
    }
   ],
   "source": [
    "prob = LpProblem(\"DietProblem\", LpMinimize)\n",
    "\n",
    "# Initialize the decision variables\n",
    "food_vars = LpVariable.dicts(\"food\", foods, 0)\n",
    "\n",
    "food_vars"
   ]
  },
  {
   "cell_type": "markdown",
   "metadata": {},
   "source": [
    "### The next step is to create the constraints and obejective function as well as to assign them to our model. Our Objective function is the inner product of the cost and food variables."
   ]
  },
  {
   "cell_type": "code",
   "execution_count": 7,
   "metadata": {
    "scrolled": true
   },
   "outputs": [
    {
     "data": {
      "text/plain": [
       "DietProblem:\n",
       "MINIMIZE\n",
       "0.23*food_2%_Lowfat_Milk + 0.16*food_3.3%_Fat,Whole_Milk + 0.24*food_Apple,Raw,W_Skin + 0.16*food_Apple_Pie + 0.16*food_Bagels + 0.15*food_Banana + 0.67*food_Beanbacn_Soup,W_Watr + 0.15*food_Bologna,Turkey + 0.05*food_Butter,Regular + 0.31*food_Cap'N_Crunch + 0.07*food_Carrots,Raw + 0.04*food_Celery,_Raw + 0.25*food_Cheddar_Cheese + 0.28*food_Cheerios + 0.39*food_Chicknoodl_Soup + 0.03*food_Chocolate_Chip_Cookies + 0.28*food_Corn_Flks,_Kellogg'S + 0.39*food_Couscous + 0.65*food_Crm_Mshrm_Soup,W_Mlk + 0.27*food_Frankfurter,_Beef + 0.16*food_Frozen_Broccoli + 0.18*food_Frozen_Corn + 0.32*food_Grapes + 0.33*food_Ham,Sliced,Extralean + 0.83*food_Hamburger_W_Toppings + 0.31*food_Hotdog,_Plain + 0.15*food_Kielbasa,Prk + 0.49*food_Kiwifruit,Raw,Fresh + 0.02*food_Lettuce,Iceberg,Raw + 0.17*food_Macaroni,Ckd + 0.52*food_Malt_O_Meal,Choc + 0.99*food_New_E_Clamchwd,W_Mlk + 0.75*food_Neweng_Clamchwd + 0.82*food_Oatmeal + 0.09*food_Oatmeal_Cookies + 0.15*food_Oranges + 0.07*food_Peanut_Butter + 0.53*food_Peppers,_Sweet,_Raw + 0.44*food_Pizza_W_Pepperoni + 0.08*food_Poached_Eggs + 0.04*food_Popcorn,Air_Popped + 0.81*food_Pork + 0.22*food_Potato_Chips,Bbqflvr + 0.06*food_Potatoes,_Baked + 0.12*food_Pretzels + 0.34*food_Raisin_Brn,_Kellg'S + 0.32*food_Rice_Krispies + 0.84*food_Roasted_Chicken + 0.45*food_Sardines_in_Oil + 0.11*food_Scrambled_Eggs + 0.13*food_Skim_Milk + 0.78*food_Spaghetti_W__Sauce + 0.38*food_Special_K + 0.67*food_Splt_Pea&Hamsoup + 0.59*food_Taco + 0.31*food_Tofu + 0.27*food_Tomato,Red,Ripe,Raw + 0.39*food_Tomato_Soup + 0.19*food_Tortilla_Chip + 0.71*food_Vegetbeef_Soup + 0.05*food_Wheat_Bread + 0.06*food_White_Bread + 0.08*food_White_Rice + 0.69*food_White_Tuna_in_Water + 0.0\n",
       "VARIABLES\n",
       "food_2%_Lowfat_Milk Continuous\n",
       "food_3.3%_Fat,Whole_Milk Continuous\n",
       "food_Apple,Raw,W_Skin Continuous\n",
       "food_Apple_Pie Continuous\n",
       "food_Bagels Continuous\n",
       "food_Banana Continuous\n",
       "food_Beanbacn_Soup,W_Watr Continuous\n",
       "food_Bologna,Turkey Continuous\n",
       "food_Butter,Regular Continuous\n",
       "food_Cap'N_Crunch Continuous\n",
       "food_Carrots,Raw Continuous\n",
       "food_Celery,_Raw Continuous\n",
       "food_Cheddar_Cheese Continuous\n",
       "food_Cheerios Continuous\n",
       "food_Chicknoodl_Soup Continuous\n",
       "food_Chocolate_Chip_Cookies Continuous\n",
       "food_Corn_Flks,_Kellogg'S Continuous\n",
       "food_Couscous Continuous\n",
       "food_Crm_Mshrm_Soup,W_Mlk Continuous\n",
       "food_Frankfurter,_Beef Continuous\n",
       "food_Frozen_Broccoli Continuous\n",
       "food_Frozen_Corn Continuous\n",
       "food_Grapes Continuous\n",
       "food_Ham,Sliced,Extralean Continuous\n",
       "food_Hamburger_W_Toppings Continuous\n",
       "food_Hotdog,_Plain Continuous\n",
       "food_Kielbasa,Prk Continuous\n",
       "food_Kiwifruit,Raw,Fresh Continuous\n",
       "food_Lettuce,Iceberg,Raw Continuous\n",
       "food_Macaroni,Ckd Continuous\n",
       "food_Malt_O_Meal,Choc Continuous\n",
       "food_New_E_Clamchwd,W_Mlk Continuous\n",
       "food_Neweng_Clamchwd Continuous\n",
       "food_Oatmeal Continuous\n",
       "food_Oatmeal_Cookies Continuous\n",
       "food_Oranges Continuous\n",
       "food_Peanut_Butter Continuous\n",
       "food_Peppers,_Sweet,_Raw Continuous\n",
       "food_Pizza_W_Pepperoni Continuous\n",
       "food_Poached_Eggs Continuous\n",
       "food_Popcorn,Air_Popped Continuous\n",
       "food_Pork Continuous\n",
       "food_Potato_Chips,Bbqflvr Continuous\n",
       "food_Potatoes,_Baked Continuous\n",
       "food_Pretzels Continuous\n",
       "food_Raisin_Brn,_Kellg'S Continuous\n",
       "food_Rice_Krispies Continuous\n",
       "food_Roasted_Chicken Continuous\n",
       "food_Sardines_in_Oil Continuous\n",
       "food_Scrambled_Eggs Continuous\n",
       "food_Skim_Milk Continuous\n",
       "food_Spaghetti_W__Sauce Continuous\n",
       "food_Special_K Continuous\n",
       "food_Splt_Pea&Hamsoup Continuous\n",
       "food_Taco Continuous\n",
       "food_Tofu Continuous\n",
       "food_Tomato,Red,Ripe,Raw Continuous\n",
       "food_Tomato_Soup Continuous\n",
       "food_Tortilla_Chip Continuous\n",
       "food_Vegetbeef_Soup Continuous\n",
       "food_Wheat_Bread Continuous\n",
       "food_White_Bread Continuous\n",
       "food_White_Rice Continuous\n",
       "food_White_Tuna_in_Water Continuous"
      ]
     },
     "execution_count": 7,
     "metadata": {},
     "output_type": "execute_result"
    }
   ],
   "source": [
    "# Add the objective function to the model\n",
    "prob += lpSum([cost[i]*food_vars[i] for i in foods])\n",
    "\n",
    "# Full definition of our model\n",
    "prob"
   ]
  },
  {
   "cell_type": "markdown",
   "metadata": {},
   "source": [
    "### Then, we add minimum and maximum constraints to the model"
   ]
  },
  {
   "cell_type": "code",
   "execution_count": 8,
   "metadata": {},
   "outputs": [],
   "source": [
    "prob += lpSum([cals[i] * food_vars[i] for i in foods]) >= 1500\n",
    "prob += lpSum([cals[i] * food_vars[i] for i in foods]) <= 2500\n",
    "\n",
    "prob += lpSum([protein[i] * food_vars[i] for i in foods]) >= 60\n",
    "prob += lpSum([protein[i] * food_vars[i] for i in foods]) <= 100\n",
    "\n",
    "prob += lpSum([carbs[i] * food_vars[i] for i in foods]) >= 130\n",
    "prob += lpSum([carbs[i] * food_vars[i] for i in foods]) <= 450\n",
    "\n",
    "prob += lpSum([fat[i] * food_vars[i] for i in foods]) >= 20\n",
    "prob += lpSum([fat[i] * food_vars[i] for i in foods]) <= 70\n",
    "\n",
    "prob += lpSum([vit_a[i] * food_vars[i] for i in foods]) >= 1000\n",
    "prob += lpSum([vit_a[i] * food_vars[i] for i in foods]) <= 10000\n",
    "\n",
    "prob += lpSum([calcium[i] * food_vars[i] for i in foods]) >= 700\n",
    "prob += lpSum([calcium[i] * food_vars[i] for i in foods]) <= 1500\n",
    "\n",
    "prob += lpSum([iron[i] * food_vars[i] for i in foods]) >= 10\n",
    "prob += lpSum([iron[i] * food_vars[i] for i in foods]) <= 40\n",
    "\n",
    "prob += lpSum([sodium[i] * food_vars[i] for i in foods]) >= 800\n",
    "prob += lpSum([sodium[i] * food_vars[i] for i in foods]) <= 2000\n",
    "\n",
    "####\n",
    "prob += lpSum([chol[i] * food_vars[i] for i in foods]) >= 30\n",
    "prob += lpSum([chol[i] * food_vars[i] for i in foods]) <= 240\n",
    "\n",
    "prob += lpSum([fiber[i] * food_vars[i] for i in foods]) >= 125\n",
    "prob += lpSum([fiber[i] * food_vars[i] for i in foods]) <= 250\n",
    "\n",
    "prob += lpSum([vit_c[i] * food_vars[i] for i in foods]) >= 400\n",
    "prob += lpSum([vit_c[i] * food_vars[i] for i in foods]) <= 5000\n",
    "\n"
   ]
  },
  {
   "cell_type": "code",
   "execution_count": 9,
   "metadata": {
    "scrolled": false
   },
   "outputs": [
    {
     "data": {
      "text/plain": [
       "[food_2%_Lowfat_Milk,\n",
       " food_3.3%_Fat,Whole_Milk,\n",
       " food_Apple,Raw,W_Skin,\n",
       " food_Apple_Pie,\n",
       " food_Bagels,\n",
       " food_Banana,\n",
       " food_Beanbacn_Soup,W_Watr,\n",
       " food_Bologna,Turkey,\n",
       " food_Butter,Regular,\n",
       " food_Cap'N_Crunch,\n",
       " food_Carrots,Raw,\n",
       " food_Celery,_Raw,\n",
       " food_Cheddar_Cheese,\n",
       " food_Cheerios,\n",
       " food_Chicknoodl_Soup,\n",
       " food_Chocolate_Chip_Cookies,\n",
       " food_Corn_Flks,_Kellogg'S,\n",
       " food_Couscous,\n",
       " food_Crm_Mshrm_Soup,W_Mlk,\n",
       " food_Frankfurter,_Beef,\n",
       " food_Frozen_Broccoli,\n",
       " food_Frozen_Corn,\n",
       " food_Grapes,\n",
       " food_Ham,Sliced,Extralean,\n",
       " food_Hamburger_W_Toppings,\n",
       " food_Hotdog,_Plain,\n",
       " food_Kielbasa,Prk,\n",
       " food_Kiwifruit,Raw,Fresh,\n",
       " food_Lettuce,Iceberg,Raw,\n",
       " food_Macaroni,Ckd,\n",
       " food_Malt_O_Meal,Choc,\n",
       " food_New_E_Clamchwd,W_Mlk,\n",
       " food_Neweng_Clamchwd,\n",
       " food_Oatmeal,\n",
       " food_Oatmeal_Cookies,\n",
       " food_Oranges,\n",
       " food_Peanut_Butter,\n",
       " food_Peppers,_Sweet,_Raw,\n",
       " food_Pizza_W_Pepperoni,\n",
       " food_Poached_Eggs,\n",
       " food_Popcorn,Air_Popped,\n",
       " food_Pork,\n",
       " food_Potato_Chips,Bbqflvr,\n",
       " food_Potatoes,_Baked,\n",
       " food_Pretzels,\n",
       " food_Raisin_Brn,_Kellg'S,\n",
       " food_Rice_Krispies,\n",
       " food_Roasted_Chicken,\n",
       " food_Sardines_in_Oil,\n",
       " food_Scrambled_Eggs,\n",
       " food_Skim_Milk,\n",
       " food_Spaghetti_W__Sauce,\n",
       " food_Special_K,\n",
       " food_Splt_Pea&Hamsoup,\n",
       " food_Taco,\n",
       " food_Tofu,\n",
       " food_Tomato,Red,Ripe,Raw,\n",
       " food_Tomato_Soup,\n",
       " food_Tortilla_Chip,\n",
       " food_Vegetbeef_Soup,\n",
       " food_Wheat_Bread,\n",
       " food_White_Bread,\n",
       " food_White_Rice,\n",
       " food_White_Tuna_in_Water]"
      ]
     },
     "execution_count": 9,
     "metadata": {},
     "output_type": "execute_result"
    }
   ],
   "source": [
    "prob.writeLP(\"DietModel.lp\")"
   ]
  },
  {
   "cell_type": "markdown",
   "metadata": {},
   "source": [
    "### Finally, we can solve the problem by calling .solve() on our model object. We use the default solver (CBC) by not passing any arguments. This function calls the underlying solver, modifies the model object, and returns the integer status of the solution, which will be 1 if the optimum if found."
   ]
  },
  {
   "cell_type": "code",
   "execution_count": 10,
   "metadata": {
    "scrolled": true
   },
   "outputs": [
    {
     "data": {
      "text/plain": [
       "1"
      ]
     },
     "execution_count": 10,
     "metadata": {},
     "output_type": "execute_result"
    }
   ],
   "source": [
    "prob.solve()"
   ]
  },
  {
   "cell_type": "code",
   "execution_count": 11,
   "metadata": {
    "scrolled": true
   },
   "outputs": [
    {
     "name": "stdout",
     "output_type": "stream",
     "text": [
      "Status: Optimal\n"
     ]
    }
   ],
   "source": [
    "print (\"Status:\", LpStatus[prob.status])"
   ]
  },
  {
   "cell_type": "markdown",
   "metadata": {},
   "source": [
    "### Let's print variable values where the values are greater than 0."
   ]
  },
  {
   "cell_type": "code",
   "execution_count": 12,
   "metadata": {},
   "outputs": [
    {
     "name": "stdout",
     "output_type": "stream",
     "text": [
      "food_Celery,_Raw = 52.64371\n",
      "food_Frozen_Broccoli = 0.25960653\n",
      "food_Lettuce,Iceberg,Raw = 63.988506\n",
      "food_Oranges = 2.2929389\n",
      "food_Poached_Eggs = 0.14184397\n",
      "food_Popcorn,Air_Popped = 13.869322\n"
     ]
    }
   ],
   "source": [
    "for v in prob.variables():\n",
    "    if v.varValue>0:\n",
    "        print (v.name, \"=\", v.varValue)"
   ]
  },
  {
   "cell_type": "markdown",
   "metadata": {},
   "source": [
    "### Our optimal solution is as follows."
   ]
  },
  {
   "cell_type": "code",
   "execution_count": 13,
   "metadata": {},
   "outputs": [
    {
     "name": "stdout",
     "output_type": "stream",
     "text": [
      "The total cost of this balanced diet is: $4.34\n"
     ]
    }
   ],
   "source": [
    "# Result: Total cost of the optimal diet 1\n",
    "obj = value(prob.objective)\n",
    "print(\"The total cost of this balanced diet is: ${}\".format(round(obj,2)))"
   ]
  },
  {
   "cell_type": "markdown",
   "metadata": {},
   "source": [
    "## Part 2"
   ]
  },
  {
   "cell_type": "markdown",
   "metadata": {},
   "source": [
    "### For part 2, we create another optimization problem framework to minimize cost."
   ]
  },
  {
   "cell_type": "code",
   "execution_count": 14,
   "metadata": {},
   "outputs": [],
   "source": [
    "prob2 = LpProblem('Diet_Problem2', LpMinimize)"
   ]
  },
  {
   "cell_type": "markdown",
   "metadata": {},
   "source": [
    "### For each food, we need two variables to decide whether it is chosen, and how much is part of the diet. Thus we add conditions as follows."
   ]
  },
  {
   "cell_type": "code",
   "execution_count": 15,
   "metadata": {},
   "outputs": [],
   "source": [
    "# Define the variables\n",
    "amtVars = LpVariable.dicts(\"Item\", foods,0)"
   ]
  },
  {
   "cell_type": "markdown",
   "metadata": {},
   "source": [
    "### We also create a new binary variable to indicate whether the food is eaten(1) or not(0)."
   ]
  },
  {
   "cell_type": "code",
   "execution_count": 16,
   "metadata": {},
   "outputs": [],
   "source": [
    "# Define the binary variables\n",
    "binarySelVars = LpVariable.dicts(\"Selected\",foods,0,1,\"Binary\")"
   ]
  },
  {
   "cell_type": "code",
   "execution_count": 17,
   "metadata": {},
   "outputs": [],
   "source": [
    "# Create a dictionary of Lp variables\n",
    "x = LpVariable.dicts(\"x\", foods, 0)"
   ]
  },
  {
   "cell_type": "code",
   "execution_count": 18,
   "metadata": {},
   "outputs": [],
   "source": [
    "# Define the objective function\n",
    "prob2 += lpSum([cost[i] * amtVars[i] for i in foods])"
   ]
  },
  {
   "cell_type": "markdown",
   "metadata": {},
   "source": [
    "### If food is eaten it must at least be eaten greater than 0.1 units and less than a large amount, so this is how we formulate our equation:"
   ]
  },
  {
   "cell_type": "code",
   "execution_count": 19,
   "metadata": {},
   "outputs": [],
   "source": [
    "for i in foods:\n",
    "    prob2 += amtVars[i] <= 10000 * binarySelVars[i]\n",
    "    prob2 += amtVars[i] >= .1 * binarySelVars[i]"
   ]
  },
  {
   "cell_type": "markdown",
   "metadata": {},
   "source": [
    "### Then, we add minimum and maximum constraints for all food items."
   ]
  },
  {
   "cell_type": "code",
   "execution_count": 20,
   "metadata": {},
   "outputs": [],
   "source": [
    "prob2 += 1500 <= pulp.lpSum(cals[i] * amtVars[i] for i in foods)\n",
    "prob2 += 2500 >= pulp.lpSum(cals[i] * amtVars[i] for i in foods)\n",
    "\n",
    "prob2 += 30 <= pulp.lpSum(chol[i] * amtVars[i] for i in foods)\n",
    "prob2 += 240 >= pulp.lpSum(chol[i] * amtVars[i] for i in foods)\n",
    "\n",
    "prob2 += 20 <= pulp.lpSum(fat[i] * amtVars[i] for i in foods)\n",
    "prob2 += 70 >= pulp.lpSum(fat[i] * amtVars[i] for i in foods)\n",
    "\n",
    "prob2 += 800 <= pulp.lpSum(sodium[i] * amtVars[i] for i in foods)\n",
    "prob2 += 2000 >= pulp.lpSum(sodium[i] * amtVars[i] for i in foods)\n",
    "\n",
    "prob2 += 130 <= pulp.lpSum(carbs[i] * amtVars[i] for i in foods)\n",
    "prob2 += 450 >= pulp.lpSum(carbs[i] * amtVars[i] for i in foods)\n",
    "\n",
    "prob2 += 125 <= pulp.lpSum(fiber[i] * amtVars[i] for i in foods)\n",
    "prob2 += 250 >= pulp.lpSum(fiber[i] * amtVars[i] for i in foods)\n",
    "\n",
    "prob2 += 60 <= pulp.lpSum(protein[i] * amtVars[i] for i in foods)\n",
    "prob2 += 100 >= pulp.lpSum(protein[i] * amtVars[i] for i in foods)\n",
    "\n",
    "prob2 += 1000 <= pulp.lpSum(vit_a[i] * amtVars[i] for i in foods)\n",
    "prob2 += 10000 >= pulp.lpSum(vit_a[i] * amtVars[i] for i in foods)\n",
    "\n",
    "prob2 += 400 <= pulp.lpSum(vit_c[i] * amtVars[i] for i in foods)\n",
    "prob2 += 5000 >= pulp.lpSum(vit_c[i] * amtVars[i] for i in foods)\n",
    "\n",
    "prob2 += 700 <= pulp.lpSum(calcium[i] * amtVars[i] for i in foods)\n",
    "prob2 += 1500 >= pulp.lpSum(calcium[i] * amtVars[i] for i in foods)\n",
    "\n",
    "prob2 += 10 <= pulp.lpSum(iron[i] * amtVars[i] for i in foods)\n",
    "prob2 += 40 >= pulp.lpSum(iron[i] * amtVars[i] for i in foods)"
   ]
  },
  {
   "cell_type": "markdown",
   "metadata": {},
   "source": [
    "### Since many people dislike celery and frozen broccoli, at most one of them can be selected."
   ]
  },
  {
   "cell_type": "code",
   "execution_count": 21,
   "metadata": {},
   "outputs": [],
   "source": [
    "prob2 += binarySelVars['Frozen Broccoli'] + binarySelVars['Celery, Raw'] <= 1"
   ]
  },
  {
   "cell_type": "markdown",
   "metadata": {},
   "source": [
    "### To get a day-to-day variety in protein, at least 3 kinds of meat/poultry/fish/eggs must be selected. There could be more or less foods that contain protein, but we selected 11 foods which we thought that have ample amounts of protein in them."
   ]
  },
  {
   "cell_type": "code",
   "execution_count": 22,
   "metadata": {},
   "outputs": [],
   "source": [
    "# Add constraints to have at least 3 proteins\n",
    "prob2 += binarySelVars['Roasted Chicken'] + binarySelVars['Poached Eggs'] + \\\n",
    "binarySelVars['Scrambled Eggs'] + binarySelVars['Frankfurter, Beef'] + \\\n",
    "binarySelVars['Kielbasa,Prk'] + binarySelVars['Hamburger W/Toppings'] + \\\n",
    "binarySelVars['Hotdog, Plain'] + binarySelVars['Pork'] + \\\n",
    "binarySelVars['Bologna,Turkey'] + binarySelVars['Ham,Sliced,Extralean'] + \\\n",
    "binarySelVars['White Tuna in Water'] \\\n",
    ">= 3"
   ]
  },
  {
   "cell_type": "markdown",
   "metadata": {},
   "source": [
    "### Finally, we solve problem 2 for the diet optimization."
   ]
  },
  {
   "cell_type": "code",
   "execution_count": 23,
   "metadata": {},
   "outputs": [
    {
     "data": {
      "text/plain": [
       "1"
      ]
     },
     "execution_count": 23,
     "metadata": {},
     "output_type": "execute_result"
    }
   ],
   "source": [
    "# Solve problem 2 for the diet optimization\n",
    "prob2.solve()"
   ]
  },
  {
   "cell_type": "code",
   "execution_count": 24,
   "metadata": {},
   "outputs": [
    {
     "name": "stdout",
     "output_type": "stream",
     "text": [
      "Result : Items to be selected for optimized diet:\n",
      "42.399358 servings of Item_Celery,_Raw\n",
      "0.1 servings of Item_Kielbasa,Prk\n",
      "82.802586 servings of Item_Lettuce,Iceberg,Raw\n",
      "3.0771841 servings of Item_Oranges\n",
      "1.9429716 servings of Item_Peanut_Butter\n",
      "0.1 servings of Item_Poached_Eggs\n",
      "13.223294 servings of Item_Popcorn,Air_Popped\n",
      "0.1 servings of Item_Scrambled_Eggs\n"
     ]
    }
   ],
   "source": [
    "# Result: The foods items for the optimal diet\n",
    "print('Result : Items to be selected for optimized diet:')\n",
    "for var in prob2.variables():\n",
    "    if var.varValue > 0:\n",
    "        if str(var).find('Selected'):\n",
    "            print(str(var.varValue) + \" servings of \" + str(var))"
   ]
  },
  {
   "cell_type": "code",
   "execution_count": 25,
   "metadata": {},
   "outputs": [
    {
     "name": "stdout",
     "output_type": "stream",
     "text": [
      "Total Cost of food = $4.51\n"
     ]
    }
   ],
   "source": [
    "# Result: Total cost of the optimal diet 2\n",
    "print(\"Total Cost of food = $%.2f\" % value(prob2.objective))"
   ]
  },
  {
   "cell_type": "markdown",
   "metadata": {},
   "source": [
    "### The result is almost close to the first problem but with slightly higher price, from which we can assume that more constraints actually had some effects in the model, leading to a higher cost."
   ]
  }
 ],
 "metadata": {
  "kernelspec": {
   "display_name": "Python 3",
   "language": "python",
   "name": "python3"
  },
  "language_info": {
   "codemirror_mode": {
    "name": "ipython",
    "version": 3
   },
   "file_extension": ".py",
   "mimetype": "text/x-python",
   "name": "python",
   "nbconvert_exporter": "python",
   "pygments_lexer": "ipython3",
   "version": "3.7.7"
  }
 },
 "nbformat": 4,
 "nbformat_minor": 4
}
